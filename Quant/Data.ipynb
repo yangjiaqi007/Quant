{
 "cells": [
  {
   "cell_type": "markdown",
   "id": "9efc36ca",
   "metadata": {},
   "source": [
    "# Qlib Init"
   ]
  },
  {
   "cell_type": "code",
   "execution_count": null,
   "id": "b826dac1",
   "metadata": {},
   "outputs": [
    {
     "name": "stderr",
     "output_type": "stream",
     "text": [
      "[15828:MainThread](2025-06-07 20:00:00,414) INFO - qlib.Initialization - [config.py:420] - default_conf: client.\n",
      "[15828:MainThread](2025-06-07 20:00:05,160) INFO - qlib.Initialization - [__init__.py:74] - qlib successfully initialized based on client settings.\n",
      "[15828:MainThread](2025-06-07 20:00:05,161) INFO - qlib.Initialization - [__init__.py:76] - data_path={'__DEFAULT_FREQ': WindowsPath('C:/Users/Administrator/.qlib/qlib_data/cn_data')}\n"
     ]
    }
   ],
   "source": [
    "import qlib\n",
    "\n",
    "qlib.init(provider_uri='~/.qlib/qlib_data/cn_data')"
   ]
  },
  {
   "cell_type": "markdown",
   "id": "bdd91add",
   "metadata": {},
   "source": [
    "# Load Timestamp"
   ]
  },
  {
   "cell_type": "code",
   "execution_count": null,
   "id": "b9c88646",
   "metadata": {},
   "outputs": [
    {
     "data": {
      "text/plain": [
       "array([Timestamp('2019-01-02 00:00:00'), Timestamp('2019-01-03 00:00:00'),\n",
       "       Timestamp('2019-01-04 00:00:00'), Timestamp('2019-01-07 00:00:00'),\n",
       "       Timestamp('2019-01-08 00:00:00'), Timestamp('2019-01-09 00:00:00'),\n",
       "       Timestamp('2019-01-10 00:00:00'), Timestamp('2019-01-11 00:00:00'),\n",
       "       Timestamp('2019-01-14 00:00:00'), Timestamp('2019-01-15 00:00:00')],\n",
       "      dtype=object)"
      ]
     },
     "execution_count": 4,
     "metadata": {},
     "output_type": "execute_result"
    }
   ],
   "source": [
    "from qlib.data import D\n",
    "\n",
    "D.calendar(start_time='2019-01-01', end_time='2024-12-31', freq='day')[:10]"
   ]
  },
  {
   "cell_type": "markdown",
   "id": "80556fd9",
   "metadata": {},
   "source": [
    "# Load Instruments"
   ]
  },
  {
   "cell_type": "code",
   "execution_count": null,
   "id": "b6355597",
   "metadata": {},
   "outputs": [
    {
     "data": {
      "text/plain": [
       "['SH600000',\n",
       " 'SH600004',\n",
       " 'SH600009',\n",
       " 'SH600010',\n",
       " 'SH600011',\n",
       " 'SH600015',\n",
       " 'SH600016',\n",
       " 'SH600018',\n",
       " 'SH600019',\n",
       " 'SH600025']"
      ]
     },
     "execution_count": 6,
     "metadata": {},
     "output_type": "execute_result"
    }
   ],
   "source": [
    "from qlib.data import D\n",
    "\n",
    "instruments = D.instruments(market='csi300')\n",
    "D.list_instruments(instruments=instruments, start_time='2019-01-01', end_time='2024-12-31', as_list=True)[:10]"
   ]
  },
  {
   "cell_type": "markdown",
   "id": "d4245504",
   "metadata": {},
   "source": [
    "## NameFilter"
   ]
  },
  {
   "cell_type": "code",
   "execution_count": 8,
   "id": "7363aa4a",
   "metadata": {},
   "outputs": [
    {
     "data": {
      "text/plain": [
       "['SH600015',\n",
       " 'SH600025',\n",
       " 'SH600085',\n",
       " 'SH600115',\n",
       " 'SH600585',\n",
       " 'SH600655',\n",
       " 'SH600705',\n",
       " 'SH600745',\n",
       " 'SH600795',\n",
       " 'SH601155',\n",
       " 'SH601225',\n",
       " 'SH601555',\n",
       " 'SH601985',\n",
       " 'SH600535',\n",
       " 'SH600415']"
      ]
     },
     "execution_count": 8,
     "metadata": {},
     "output_type": "execute_result"
    }
   ],
   "source": [
    "from qlib.data import D\n",
    "from qlib.data.filter import NameDFilter\n",
    "\n",
    "nameDFilter = NameDFilter(name_rule_re='SH[0-9]{5}5')\n",
    "instruments = D.instruments(market='csi300', filter_pipe=[nameDFilter])\n",
    "D.list_instruments(instruments=instruments, start_time='2019-01-01', end_time='2024-02-15', as_list=True)"
   ]
  },
  {
   "cell_type": "markdown",
   "id": "6af4f755",
   "metadata": {},
   "source": [
    "## Expression Filter"
   ]
  },
  {
   "cell_type": "code",
   "execution_count": 10,
   "id": "c900fe72",
   "metadata": {},
   "outputs": [
    {
     "ename": "AttributeError",
     "evalue": "'ParallelExt' object has no attribute '_backend_args'",
     "output_type": "error",
     "traceback": [
      "\u001b[31m---------------------------------------------------------------------------\u001b[39m",
      "\u001b[31mTypeError\u001b[39m                                 Traceback (most recent call last)",
      "\u001b[36mFile \u001b[39m\u001b[32mc:\\Users\\Administrator\\Desktop\\Quant\\.conda\\Lib\\site-packages\\qlib\\data\\filter.py:344\u001b[39m, in \u001b[36mExpressionDFilter._getFilterSeries\u001b[39m\u001b[34m(self, instruments, fstart, fend)\u001b[39m\n\u001b[32m    343\u001b[39m \u001b[38;5;28;01mtry\u001b[39;00m:\n\u001b[32m--> \u001b[39m\u001b[32m344\u001b[39m     _features = \u001b[43mDatasetD\u001b[49m\u001b[43m.\u001b[49m\u001b[43mdataset\u001b[49m\u001b[43m(\u001b[49m\n\u001b[32m    345\u001b[39m \u001b[43m        \u001b[49m\u001b[43minstruments\u001b[49m\u001b[43m,\u001b[49m\n\u001b[32m    346\u001b[39m \u001b[43m        \u001b[49m\u001b[43m[\u001b[49m\u001b[38;5;28;43mself\u001b[39;49m\u001b[43m.\u001b[49m\u001b[43mrule_expression\u001b[49m\u001b[43m]\u001b[49m\u001b[43m,\u001b[49m\n\u001b[32m    347\u001b[39m \u001b[43m        \u001b[49m\u001b[43mfstart\u001b[49m\u001b[43m,\u001b[49m\n\u001b[32m    348\u001b[39m \u001b[43m        \u001b[49m\u001b[43mfend\u001b[49m\u001b[43m,\u001b[49m\n\u001b[32m    349\u001b[39m \u001b[43m        \u001b[49m\u001b[43mfreq\u001b[49m\u001b[43m=\u001b[49m\u001b[38;5;28;43mself\u001b[39;49m\u001b[43m.\u001b[49m\u001b[43mfilter_freq\u001b[49m\u001b[43m,\u001b[49m\n\u001b[32m    350\u001b[39m \u001b[43m        \u001b[49m\u001b[43mdisk_cache\u001b[49m\u001b[43m=\u001b[49m\u001b[32;43m0\u001b[39;49m\u001b[43m,\u001b[49m\n\u001b[32m    351\u001b[39m \u001b[43m    \u001b[49m\u001b[43m)\u001b[49m\n\u001b[32m    352\u001b[39m \u001b[38;5;28;01mexcept\u001b[39;00m \u001b[38;5;167;01mTypeError\u001b[39;00m:\n\u001b[32m    353\u001b[39m     \u001b[38;5;66;03m# use LocalDatasetProvider\u001b[39;00m\n",
      "\u001b[31mTypeError\u001b[39m: LocalDatasetProvider.dataset() got an unexpected keyword argument 'disk_cache'",
      "\nDuring handling of the above exception, another exception occurred:\n",
      "\u001b[31mAttributeError\u001b[39m                            Traceback (most recent call last)",
      "\u001b[36mCell\u001b[39m\u001b[36m \u001b[39m\u001b[32mIn[10]\u001b[39m\u001b[32m, line 5\u001b[39m\n\u001b[32m      3\u001b[39m expressionDFilter = ExpressionDFilter(rule_expression=\u001b[33m'\u001b[39m\u001b[33m$close < 3\u001b[39m\u001b[33m'\u001b[39m)\n\u001b[32m      4\u001b[39m instruments = D.instruments(market=\u001b[33m'\u001b[39m\u001b[33mcsi300\u001b[39m\u001b[33m'\u001b[39m, filter_pipe=[expressionDFilter])\n\u001b[32m----> \u001b[39m\u001b[32m5\u001b[39m \u001b[43mD\u001b[49m\u001b[43m.\u001b[49m\u001b[43mlist_instruments\u001b[49m\u001b[43m(\u001b[49m\u001b[43minstruments\u001b[49m\u001b[43m=\u001b[49m\u001b[43minstruments\u001b[49m\u001b[43m,\u001b[49m\u001b[43m \u001b[49m\u001b[43mstart_time\u001b[49m\u001b[43m=\u001b[49m\u001b[33;43m'\u001b[39;49m\u001b[33;43m2019-01-01\u001b[39;49m\u001b[33;43m'\u001b[39;49m\u001b[43m,\u001b[49m\u001b[43m \u001b[49m\u001b[43mend_time\u001b[49m\u001b[43m=\u001b[49m\u001b[33;43m'\u001b[39;49m\u001b[33;43m2024-02-15\u001b[39;49m\u001b[33;43m'\u001b[39;49m\u001b[43m,\u001b[49m\u001b[43m \u001b[49m\u001b[43mas_list\u001b[49m\u001b[43m=\u001b[49m\u001b[38;5;28;43;01mTrue\u001b[39;49;00m\u001b[43m)\u001b[49m\n",
      "\u001b[36mFile \u001b[39m\u001b[32mc:\\Users\\Administrator\\Desktop\\Quant\\.conda\\Lib\\site-packages\\qlib\\data\\data.py:1160\u001b[39m, in \u001b[36mBaseProvider.list_instruments\u001b[39m\u001b[34m(self, instruments, start_time, end_time, freq, as_list)\u001b[39m\n\u001b[32m   1159\u001b[39m \u001b[38;5;28;01mdef\u001b[39;00m\u001b[38;5;250m \u001b[39m\u001b[34mlist_instruments\u001b[39m(\u001b[38;5;28mself\u001b[39m, instruments, start_time=\u001b[38;5;28;01mNone\u001b[39;00m, end_time=\u001b[38;5;28;01mNone\u001b[39;00m, freq=\u001b[33m\"\u001b[39m\u001b[33mday\u001b[39m\u001b[33m\"\u001b[39m, as_list=\u001b[38;5;28;01mFalse\u001b[39;00m):\n\u001b[32m-> \u001b[39m\u001b[32m1160\u001b[39m     \u001b[38;5;28;01mreturn\u001b[39;00m \u001b[43mInst\u001b[49m\u001b[43m.\u001b[49m\u001b[43mlist_instruments\u001b[49m\u001b[43m(\u001b[49m\u001b[43minstruments\u001b[49m\u001b[43m,\u001b[49m\u001b[43m \u001b[49m\u001b[43mstart_time\u001b[49m\u001b[43m,\u001b[49m\u001b[43m \u001b[49m\u001b[43mend_time\u001b[49m\u001b[43m,\u001b[49m\u001b[43m \u001b[49m\u001b[43mfreq\u001b[49m\u001b[43m,\u001b[49m\u001b[43m \u001b[49m\u001b[43mas_list\u001b[49m\u001b[43m)\u001b[49m\n",
      "\u001b[36mFile \u001b[39m\u001b[32mc:\\Users\\Administrator\\Desktop\\Quant\\.conda\\Lib\\site-packages\\qlib\\data\\data.py:719\u001b[39m, in \u001b[36mLocalInstrumentProvider.list_instruments\u001b[39m\u001b[34m(self, instruments, start_time, end_time, freq, as_list)\u001b[39m\n\u001b[32m    716\u001b[39m     \u001b[38;5;28;01mfrom\u001b[39;00m\u001b[38;5;250m \u001b[39m\u001b[34;01m.\u001b[39;00m\u001b[38;5;250m \u001b[39m\u001b[38;5;28;01mimport\u001b[39;00m \u001b[38;5;28mfilter\u001b[39m \u001b[38;5;28;01mas\u001b[39;00m F  \u001b[38;5;66;03m# pylint: disable=C0415\u001b[39;00m\n\u001b[32m    718\u001b[39m     filter_t = \u001b[38;5;28mgetattr\u001b[39m(F, filter_config[\u001b[33m\"\u001b[39m\u001b[33mfilter_type\u001b[39m\u001b[33m\"\u001b[39m]).from_config(filter_config)\n\u001b[32m--> \u001b[39m\u001b[32m719\u001b[39m     _instruments_filtered = \u001b[43mfilter_t\u001b[49m\u001b[43m(\u001b[49m\u001b[43m_instruments_filtered\u001b[49m\u001b[43m,\u001b[49m\u001b[43m \u001b[49m\u001b[43mstart_time\u001b[49m\u001b[43m,\u001b[49m\u001b[43m \u001b[49m\u001b[43mend_time\u001b[49m\u001b[43m,\u001b[49m\u001b[43m \u001b[49m\u001b[43mfreq\u001b[49m\u001b[43m)\u001b[49m\n\u001b[32m    720\u001b[39m \u001b[38;5;66;03m# as list\u001b[39;00m\n\u001b[32m    721\u001b[39m \u001b[38;5;28;01mif\u001b[39;00m as_list:\n",
      "\u001b[36mFile \u001b[39m\u001b[32mc:\\Users\\Administrator\\Desktop\\Quant\\.conda\\Lib\\site-packages\\qlib\\data\\filter.py:192\u001b[39m, in \u001b[36mSeriesDFilter.__call__\u001b[39m\u001b[34m(self, instruments, start_time, end_time, freq)\u001b[39m\n\u001b[32m    190\u001b[39m \u001b[38;5;250m\u001b[39m\u001b[33;03m\"\"\"Call this filter to get filtered instruments list\"\"\"\u001b[39;00m\n\u001b[32m    191\u001b[39m \u001b[38;5;28mself\u001b[39m.filter_freq = freq\n\u001b[32m--> \u001b[39m\u001b[32m192\u001b[39m \u001b[38;5;28;01mreturn\u001b[39;00m \u001b[38;5;28;43mself\u001b[39;49m\u001b[43m.\u001b[49m\u001b[43mfilter_main\u001b[49m\u001b[43m(\u001b[49m\u001b[43minstruments\u001b[49m\u001b[43m,\u001b[49m\u001b[43m \u001b[49m\u001b[43mstart_time\u001b[49m\u001b[43m,\u001b[49m\u001b[43m \u001b[49m\u001b[43mend_time\u001b[49m\u001b[43m)\u001b[49m\n",
      "\u001b[36mFile \u001b[39m\u001b[32mc:\\Users\\Administrator\\Desktop\\Quant\\.conda\\Lib\\site-packages\\qlib\\data\\filter.py:243\u001b[39m, in \u001b[36mSeriesDFilter.filter_main\u001b[39m\u001b[34m(self, instruments, start_time, end_time)\u001b[39m\n\u001b[32m    237\u001b[39m _all_calendar = Cal.calendar(start_time=start_time, end_time=end_time, freq=\u001b[38;5;28mself\u001b[39m.filter_freq)\n\u001b[32m    238\u001b[39m _filter_calendar = Cal.calendar(\n\u001b[32m    239\u001b[39m     start_time=\u001b[38;5;28mself\u001b[39m.filter_start_time \u001b[38;5;129;01mand\u001b[39;00m \u001b[38;5;28mmax\u001b[39m(\u001b[38;5;28mself\u001b[39m.filter_start_time, _all_calendar[\u001b[32m0\u001b[39m]) \u001b[38;5;129;01mor\u001b[39;00m _all_calendar[\u001b[32m0\u001b[39m],\n\u001b[32m    240\u001b[39m     end_time=\u001b[38;5;28mself\u001b[39m.filter_end_time \u001b[38;5;129;01mand\u001b[39;00m \u001b[38;5;28mmin\u001b[39m(\u001b[38;5;28mself\u001b[39m.filter_end_time, _all_calendar[-\u001b[32m1\u001b[39m]) \u001b[38;5;129;01mor\u001b[39;00m _all_calendar[-\u001b[32m1\u001b[39m],\n\u001b[32m    241\u001b[39m     freq=\u001b[38;5;28mself\u001b[39m.filter_freq,\n\u001b[32m    242\u001b[39m )\n\u001b[32m--> \u001b[39m\u001b[32m243\u001b[39m _all_filter_series = \u001b[38;5;28;43mself\u001b[39;49m\u001b[43m.\u001b[49m\u001b[43m_getFilterSeries\u001b[49m\u001b[43m(\u001b[49m\u001b[43minstruments\u001b[49m\u001b[43m,\u001b[49m\u001b[43m \u001b[49m\u001b[43m_filter_calendar\u001b[49m\u001b[43m[\u001b[49m\u001b[32;43m0\u001b[39;49m\u001b[43m]\u001b[49m\u001b[43m,\u001b[49m\u001b[43m \u001b[49m\u001b[43m_filter_calendar\u001b[49m\u001b[43m[\u001b[49m\u001b[43m-\u001b[49m\u001b[32;43m1\u001b[39;49m\u001b[43m]\u001b[49m\u001b[43m)\u001b[49m\n\u001b[32m    244\u001b[39m \u001b[38;5;28;01mfor\u001b[39;00m inst, timestamp \u001b[38;5;129;01min\u001b[39;00m instruments.items():\n\u001b[32m    245\u001b[39m     \u001b[38;5;66;03m# Construct a whole map of date\u001b[39;00m\n\u001b[32m    246\u001b[39m     _timestamp_series = \u001b[38;5;28mself\u001b[39m._toSeries(_all_calendar, timestamp)\n",
      "\u001b[36mFile \u001b[39m\u001b[32mc:\\Users\\Administrator\\Desktop\\Quant\\.conda\\Lib\\site-packages\\qlib\\data\\filter.py:354\u001b[39m, in \u001b[36mExpressionDFilter._getFilterSeries\u001b[39m\u001b[34m(self, instruments, fstart, fend)\u001b[39m\n\u001b[32m    344\u001b[39m     _features = DatasetD.dataset(\n\u001b[32m    345\u001b[39m         instruments,\n\u001b[32m    346\u001b[39m         [\u001b[38;5;28mself\u001b[39m.rule_expression],\n\u001b[32m   (...)\u001b[39m\u001b[32m    350\u001b[39m         disk_cache=\u001b[32m0\u001b[39m,\n\u001b[32m    351\u001b[39m     )\n\u001b[32m    352\u001b[39m \u001b[38;5;28;01mexcept\u001b[39;00m \u001b[38;5;167;01mTypeError\u001b[39;00m:\n\u001b[32m    353\u001b[39m     \u001b[38;5;66;03m# use LocalDatasetProvider\u001b[39;00m\n\u001b[32m--> \u001b[39m\u001b[32m354\u001b[39m     _features = \u001b[43mDatasetD\u001b[49m\u001b[43m.\u001b[49m\u001b[43mdataset\u001b[49m\u001b[43m(\u001b[49m\u001b[43minstruments\u001b[49m\u001b[43m,\u001b[49m\u001b[43m \u001b[49m\u001b[43m[\u001b[49m\u001b[38;5;28;43mself\u001b[39;49m\u001b[43m.\u001b[49m\u001b[43mrule_expression\u001b[49m\u001b[43m]\u001b[49m\u001b[43m,\u001b[49m\u001b[43m \u001b[49m\u001b[43mfstart\u001b[49m\u001b[43m,\u001b[49m\u001b[43m \u001b[49m\u001b[43mfend\u001b[49m\u001b[43m,\u001b[49m\u001b[43m \u001b[49m\u001b[43mfreq\u001b[49m\u001b[43m=\u001b[49m\u001b[38;5;28;43mself\u001b[39;49m\u001b[43m.\u001b[49m\u001b[43mfilter_freq\u001b[49m\u001b[43m)\u001b[49m\n\u001b[32m    355\u001b[39m rule_expression_field_name = \u001b[38;5;28mlist\u001b[39m(_features.keys())[\u001b[32m0\u001b[39m]\n\u001b[32m    356\u001b[39m all_filter_series = _features[rule_expression_field_name]\n",
      "\u001b[36mFile \u001b[39m\u001b[32mc:\\Users\\Administrator\\Desktop\\Quant\\.conda\\Lib\\site-packages\\qlib\\data\\data.py:923\u001b[39m, in \u001b[36mLocalDatasetProvider.dataset\u001b[39m\u001b[34m(self, instruments, fields, start_time, end_time, freq, inst_processors)\u001b[39m\n\u001b[32m    921\u001b[39m     start_time = cal[\u001b[32m0\u001b[39m]\n\u001b[32m    922\u001b[39m     end_time = cal[-\u001b[32m1\u001b[39m]\n\u001b[32m--> \u001b[39m\u001b[32m923\u001b[39m data = \u001b[38;5;28;43mself\u001b[39;49m\u001b[43m.\u001b[49m\u001b[43mdataset_processor\u001b[49m\u001b[43m(\u001b[49m\n\u001b[32m    924\u001b[39m \u001b[43m    \u001b[49m\u001b[43minstruments_d\u001b[49m\u001b[43m,\u001b[49m\u001b[43m \u001b[49m\u001b[43mcolumn_names\u001b[49m\u001b[43m,\u001b[49m\u001b[43m \u001b[49m\u001b[43mstart_time\u001b[49m\u001b[43m,\u001b[49m\u001b[43m \u001b[49m\u001b[43mend_time\u001b[49m\u001b[43m,\u001b[49m\u001b[43m \u001b[49m\u001b[43mfreq\u001b[49m\u001b[43m,\u001b[49m\u001b[43m \u001b[49m\u001b[43minst_processors\u001b[49m\u001b[43m=\u001b[49m\u001b[43minst_processors\u001b[49m\n\u001b[32m    925\u001b[39m \u001b[43m\u001b[49m\u001b[43m)\u001b[49m\n\u001b[32m    927\u001b[39m \u001b[38;5;28;01mreturn\u001b[39;00m data\n",
      "\u001b[36mFile \u001b[39m\u001b[32mc:\\Users\\Administrator\\Desktop\\Quant\\.conda\\Lib\\site-packages\\qlib\\data\\data.py:577\u001b[39m, in \u001b[36mDatasetProvider.dataset_processor\u001b[39m\u001b[34m(instruments_d, column_names, start_time, end_time, freq, inst_processors)\u001b[39m\n\u001b[32m    567\u001b[39m     inst_l.append(inst)\n\u001b[32m    568\u001b[39m     task_l.append(\n\u001b[32m    569\u001b[39m         delayed(DatasetProvider.inst_calculator)(\n\u001b[32m    570\u001b[39m             inst, start_time, end_time, freq, normalize_column_names, spans, C, inst_processors\n\u001b[32m    571\u001b[39m         )\n\u001b[32m    572\u001b[39m     )\n\u001b[32m    574\u001b[39m data = \u001b[38;5;28mdict\u001b[39m(\n\u001b[32m    575\u001b[39m     \u001b[38;5;28mzip\u001b[39m(\n\u001b[32m    576\u001b[39m         inst_l,\n\u001b[32m--> \u001b[39m\u001b[32m577\u001b[39m         \u001b[43mParallelExt\u001b[49m\u001b[43m(\u001b[49m\u001b[43mn_jobs\u001b[49m\u001b[43m=\u001b[49m\u001b[43mworkers\u001b[49m\u001b[43m,\u001b[49m\u001b[43m \u001b[49m\u001b[43mbackend\u001b[49m\u001b[43m=\u001b[49m\u001b[43mC\u001b[49m\u001b[43m.\u001b[49m\u001b[43mjoblib_backend\u001b[49m\u001b[43m,\u001b[49m\u001b[43m \u001b[49m\u001b[43mmaxtasksperchild\u001b[49m\u001b[43m=\u001b[49m\u001b[43mC\u001b[49m\u001b[43m.\u001b[49m\u001b[43mmaxtasksperchild\u001b[49m\u001b[43m)\u001b[49m(task_l),\n\u001b[32m    578\u001b[39m     )\n\u001b[32m    579\u001b[39m )\n\u001b[32m    581\u001b[39m new_data = \u001b[38;5;28mdict\u001b[39m()\n\u001b[32m    582\u001b[39m \u001b[38;5;28;01mfor\u001b[39;00m inst \u001b[38;5;129;01min\u001b[39;00m \u001b[38;5;28msorted\u001b[39m(data.keys()):\n",
      "\u001b[36mFile \u001b[39m\u001b[32mc:\\Users\\Administrator\\Desktop\\Quant\\.conda\\Lib\\site-packages\\qlib\\utils\\paral.py:24\u001b[39m, in \u001b[36mParallelExt.__init__\u001b[39m\u001b[34m(self, *args, **kwargs)\u001b[39m\n\u001b[32m     22\u001b[39m \u001b[38;5;28msuper\u001b[39m(ParallelExt, \u001b[38;5;28mself\u001b[39m).\u001b[34m__init__\u001b[39m(*args, **kwargs)\n\u001b[32m     23\u001b[39m \u001b[38;5;28;01mif\u001b[39;00m \u001b[38;5;28misinstance\u001b[39m(\u001b[38;5;28mself\u001b[39m._backend, MultiprocessingBackend):\n\u001b[32m---> \u001b[39m\u001b[32m24\u001b[39m     \u001b[38;5;28;43mself\u001b[39;49m\u001b[43m.\u001b[49m\u001b[43m_backend_args\u001b[49m[\u001b[33m\"\u001b[39m\u001b[33mmaxtasksperchild\u001b[39m\u001b[33m\"\u001b[39m] = maxtasksperchild\n",
      "\u001b[31mAttributeError\u001b[39m: 'ParallelExt' object has no attribute '_backend_args'"
     ]
    }
   ],
   "source": [
    "from qlib.data import D\n",
    "from qlib.data.filter import ExpressionDFilter\n",
    "expressionDFilter = ExpressionDFilter(rule_expression='$close < 3')\n",
    "instruments = D.instruments(market='csi300', filter_pipe=[expressionDFilter])\n",
    "D.list_instruments(instruments=instruments, start_time='2019-01-01', end_time='2024-02-15', as_list=True)"
   ]
  }
 ],
 "metadata": {
  "kernelspec": {
   "display_name": "Python 3",
   "language": "python",
   "name": "python3"
  },
  "language_info": {
   "codemirror_mode": {
    "name": "ipython",
    "version": 3
   },
   "file_extension": ".py",
   "mimetype": "text/x-python",
   "name": "python",
   "nbconvert_exporter": "python",
   "pygments_lexer": "ipython3",
   "version": "3.12.9"
  }
 },
 "nbformat": 4,
 "nbformat_minor": 5
}
