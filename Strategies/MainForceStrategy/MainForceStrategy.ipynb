{
 "cells": [
  {
   "cell_type": "markdown",
   "id": "dd7e9759",
   "metadata": {},
   "source": [
    "# Main Force Strategy\n"
   ]
  }
 ],
 "metadata": {
  "language_info": {
   "name": "python"
  }
 },
 "nbformat": 4,
 "nbformat_minor": 5
}
